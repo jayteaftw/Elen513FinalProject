{
 "cells": [
  {
   "cell_type": "code",
   "execution_count": 1,
   "metadata": {},
   "outputs": [
    {
     "name": "stdout",
     "output_type": "stream",
     "text": [
      "\n",
      "\n",
      "\n"
     ]
    }
   ],
   "source": [
    "from lib import *"
   ]
  },
  {
   "cell_type": "code",
   "execution_count": 4,
   "metadata": {},
   "outputs": [],
   "source": [
    "sample = \"\"\"\n",
    "t1=LOAD(x);\n",
    "t2=t1 +4;\n",
    "t3=t1 *8;\n",
    "t4=t1 -4;\n",
    "t5=t1 /2;\n",
    "t6=t2 * t3;\n",
    "t7=t4-t5;\n",
    "t8=t6 * t7;\n",
    "t9=t5 * t2;\n",
    "t10= ^ t9;\n",
    "STORE(y , t8 );\n",
    "STORE(z , t10 );\"\"\"\n"
   ]
  },
  {
   "cell_type": "code",
   "execution_count": null,
   "metadata": {},
   "outputs": [],
   "source": [
    "sample = \"\"\"\n",
    "t1=LOAD(x);\n",
    "t2=t1 +4;\n",
    "t3= t1 * 8;\n",
    "t4=t3 /t2;\n",
    "STORE(y , t4 );\"\"\""
   ]
  },
  {
   "cell_type": "code",
   "execution_count": 3,
   "metadata": {},
   "outputs": [],
   "source": [
    "sample = \"\"\"\n",
    "t1=LOAD(x);\n",
    "t2=LOAD(x);\n",
    "t2=LOAD(x);\n",
    "t1=t1 + t2;\n",
    "t1=t1 + t2;\n",
    "t3=t1+t2;\n",
    "t3=t1+t2;\n",
    "t3=t1+t2;\n",
    "STORE(y , t3 );\n",
    "STORE(y , t3 );\n",
    "STORE(y , t3 );   \n",
    "\"\"\""
   ]
  },
  {
   "cell_type": "code",
   "execution_count": 12,
   "metadata": {},
   "outputs": [],
   "source": [
    "sample = \"\"\"\n",
    "t1=LOAD(x);\n",
    "t1=9;\n",
    "t1=^t1;\n",
    "t1= ^t1;\n",
    "STORE(y , t1 );\n",
    "STORE(y , t1 );\"\"\"\n"
   ]
  },
  {
   "cell_type": "code",
   "execution_count": 2,
   "metadata": {},
   "outputs": [],
   "source": [
    "sample = \"\"\"\n",
    "t1=LOAD(x);\n",
    "t2=10;\n",
    "t3=t2/8;\n",
    "t4=t1*t1;\n",
    "t4=^t4;\n",
    "t3 = t4+t3;\n",
    "STORE(y , t3 );\n",
    "STORE(z , t4 );\n",
    "\"\"\""
   ]
  },
  {
   "cell_type": "code",
   "execution_count": 6,
   "metadata": {},
   "outputs": [],
   "source": [
    "sample = \"\"\"\n",
    "t1=LOAD(x);\n",
    "t1=1+r1;\n",
    "STORE(z , t1);\n",
    "\"\"\""
   ]
  },
  {
   "cell_type": "code",
   "execution_count": 7,
   "metadata": {},
   "outputs": [
    {
     "name": "stdout",
     "output_type": "stream",
     "text": [
      "('ADD', 't1', '1', 'r1') ('t1', '1')\n"
     ]
    },
    {
     "ename": "ValueError",
     "evalue": "r1 is not a proper register in instruction ('ADD', 't1', '1', 'r1'). All register start with 't' such as 't8'.",
     "output_type": "error",
     "traceback": [
      "\u001b[0;31m---------------------------------------------------------------------------\u001b[0m",
      "\u001b[0;31mValueError\u001b[0m                                Traceback (most recent call last)",
      "Cell \u001b[0;32mIn[7], line 2\u001b[0m\n\u001b[1;32m      1\u001b[0m parse_instance \u001b[39m=\u001b[39m Parser()\n\u001b[0;32m----> 2\u001b[0m IR,depend,indep,line_depend\u001b[39m=\u001b[39m parse_instance\u001b[39m.\u001b[39;49mparse(sample)\n\u001b[1;32m      3\u001b[0m \u001b[39mprint\u001b[39m(\u001b[39m'\u001b[39m\u001b[39mFinal IR\u001b[39m\u001b[39m'\u001b[39m)\n\u001b[1;32m      4\u001b[0m pprint(IR)\n",
      "File \u001b[0;32m~/Code_Workspace/Labs/Elen513/FinalProject/lib.py:437\u001b[0m, in \u001b[0;36mParser.parse\u001b[0;34m(self, code)\u001b[0m\n\u001b[1;32m    434\u001b[0m tokenized_list \u001b[39m=\u001b[39m \u001b[39mself\u001b[39m\u001b[39m.\u001b[39m_gen_tokenized_list(instructions)\n\u001b[1;32m    436\u001b[0m \u001b[39m#Generates partial IR without dependency list\u001b[39;00m\n\u001b[0;32m--> 437\u001b[0m IR_partial \u001b[39m=\u001b[39m \u001b[39mself\u001b[39;49m\u001b[39m.\u001b[39;49m_gen_partial_IR(tokenized_list)\n\u001b[1;32m    439\u001b[0m \u001b[39m#Generates IR(with dependencies list)\u001b[39;00m\n\u001b[1;32m    440\u001b[0m IR, writes, depend, edges, write_depend \u001b[39m=\u001b[39m \u001b[39mself\u001b[39m\u001b[39m.\u001b[39m_gen_dependencies(IR_partial)\n",
      "File \u001b[0;32m~/Code_Workspace/Labs/Elen513/FinalProject/lib.py:174\u001b[0m, in \u001b[0;36mParser._gen_partial_IR\u001b[0;34m(self, tokenized_list)\u001b[0m\n\u001b[1;32m    172\u001b[0m \u001b[39melif\u001b[39;00m token[\u001b[39m0\u001b[39m] \u001b[39min\u001b[39;00m \u001b[39mself\u001b[39m\u001b[39m.\u001b[39moperator_map:\n\u001b[1;32m    173\u001b[0m     \u001b[39mprint\u001b[39m(token,token[\u001b[39m1\u001b[39m:\u001b[39m3\u001b[39m] )\n\u001b[0;32m--> 174\u001b[0m     register_checking(token,token[\u001b[39m1\u001b[39;49m:\u001b[39m4\u001b[39;49m])\n\u001b[1;32m    175\u001b[0m \u001b[39melif\u001b[39;00m token[\u001b[39m0\u001b[39m] \u001b[39min\u001b[39;00m [\u001b[39m'\u001b[39m\u001b[39mSQRT\u001b[39m\u001b[39m'\u001b[39m, \u001b[39m'\u001b[39m\u001b[39mEQ\u001b[39m\u001b[39m'\u001b[39m]:\n\u001b[1;32m    176\u001b[0m     register_checking(token,token[\u001b[39m1\u001b[39m:\u001b[39m3\u001b[39m])\n",
      "File \u001b[0;32m~/Code_Workspace/Labs/Elen513/FinalProject/lib.py:160\u001b[0m, in \u001b[0;36mParser._gen_partial_IR.<locals>.register_checking\u001b[0;34m(token, registers)\u001b[0m\n\u001b[1;32m    158\u001b[0m \u001b[39mfor\u001b[39;00m reg \u001b[39min\u001b[39;00m registers:\n\u001b[1;32m    159\u001b[0m     \u001b[39mif\u001b[39;00m \u001b[39mnot\u001b[39;00m is_number(reg) \u001b[39mand\u001b[39;00m reg[\u001b[39m0\u001b[39m] \u001b[39m!=\u001b[39m \u001b[39m\"\u001b[39m\u001b[39mt\u001b[39m\u001b[39m\"\u001b[39m:\n\u001b[0;32m--> 160\u001b[0m         \u001b[39mraise\u001b[39;00m(\u001b[39mValueError\u001b[39;00m(\u001b[39mf\u001b[39m\u001b[39m\"\u001b[39m\u001b[39m{\u001b[39;00mreg\u001b[39m}\u001b[39;00m\u001b[39m is not a proper register in instruction \u001b[39m\u001b[39m{\u001b[39;00mtoken\u001b[39m}\u001b[39;00m\u001b[39m. All register start with \u001b[39m\u001b[39m'\u001b[39m\u001b[39mt\u001b[39m\u001b[39m'\u001b[39m\u001b[39m such as \u001b[39m\u001b[39m'\u001b[39m\u001b[39mt8\u001b[39m\u001b[39m'\u001b[39m\u001b[39m.\u001b[39m\u001b[39m\"\u001b[39m))\n",
      "\u001b[0;31mValueError\u001b[0m: r1 is not a proper register in instruction ('ADD', 't1', '1', 'r1'). All register start with 't' such as 't8'."
     ]
    }
   ],
   "source": [
    "\n",
    "parse_instance = Parser()\n",
    "IR,depend,indep,line_depend= parse_instance.parse(sample)\n",
    "print('Final IR')\n",
    "pprint(IR)\n",
    "print(\"ind\",indep)\n",
    "print(\"dep\",depend)\n",
    "print(\"line:\",line_depend)\n",
    "\n",
    "parse_instance.dot\n",
    "        "
   ]
  },
  {
   "cell_type": "code",
   "execution_count": 12,
   "metadata": {},
   "outputs": [
    {
     "name": "stdout",
     "output_type": "stream",
     "text": [
      "Iteration: 0\t Initial Imbalance: 0\n",
      "Iteration: 1\t New Imbalance: 0, Current Imbalance: 0\n",
      "Stopping with an Current Imbalance of 0\n",
      "Iteration: 0\t Initial Imbalance: 13\n",
      "Iteration: 1\t New Imbalance: 11, Current Imbalance: 13\n",
      "Iteration: 2\t New Imbalance: 5, Current Imbalance: 11\n",
      "Iteration: 3\t New Imbalance: 3, Current Imbalance: 5\n",
      "Iteration: 4\t New Imbalance: 5, Current Imbalance: 3\n",
      "Stopping with an Current Imbalance of 3\n"
     ]
    }
   ],
   "source": [
    "multi_core_count = 2   \n",
    "\n",
    "multi_code_gen_instance = CodeGen(multi_core_count,path=\"multi_core_code/\")\n",
    "single_code_gen_instance = CodeGen(1,path=\"single_core_code/\")\n",
    "\n",
    "\n",
    "single_code_gen_instance.generate_compiled_code(IR)\n",
    "multi_code_gen_instance.generate_compiled_code(IR)"
   ]
  },
  {
   "cell_type": "code",
   "execution_count": 21,
   "metadata": {},
   "outputs": [
    {
     "name": "stdout",
     "output_type": "stream",
     "text": [
      "{'x': 10, 'y': 20}\n",
      "Cycle:1,\tPE_0: LOAD, t2, y[1], \tPE_1: LOAD, t1, x[1], \n",
      "Cycle:2,\tPE_0: NOP[1], \tPE_1: MUL, t4, t1, t1[4], \n",
      "Cycle:3,\tPE_0: NOP[1], \tPE_1: MUL, t4, t1, t1[3], \n",
      "Cycle:4,\tPE_0: NOP[1], \tPE_1: MUL, t4, t1, t1[2], \n",
      "Cycle:5,\tPE_0: NOP[1], \tPE_1: MUL, t4, t1, t1[1], \n",
      "Cycle:6,\tPE_0: SQRT, t4, t4[10], \tPE_1: DIV, t3, t2, 8[8], \n",
      "Cycle:7,\tPE_0: SQRT, t4, t4[9], \tPE_1: DIV, t3, t2, 8[7], \n",
      "Cycle:8,\tPE_0: SQRT, t4, t4[8], \tPE_1: DIV, t3, t2, 8[6], \n",
      "Cycle:9,\tPE_0: SQRT, t4, t4[7], \tPE_1: DIV, t3, t2, 8[5], \n",
      "Cycle:10,\tPE_0: SQRT, t4, t4[6], \tPE_1: DIV, t3, t2, 8[4], \n",
      "Cycle:11,\tPE_0: SQRT, t4, t4[5], \tPE_1: DIV, t3, t2, 8[3], \n",
      "Cycle:12,\tPE_0: SQRT, t4, t4[4], \tPE_1: DIV, t3, t2, 8[2], \n",
      "Cycle:13,\tPE_0: SQRT, t4, t4[3], \tPE_1: DIV, t3, t2, 8[1], \n",
      "Cycle:14,\tPE_0: SQRT, t4, t4[2], \tPE_1: NOP[1], \n",
      "Cycle:15,\tPE_0: SQRT, t4, t4[1], \tPE_1: NOP[1], \n",
      "Cycle:16,\tPE_0: NOP[1], \tPE_1: ADD, t3, t4, t3[1], \n",
      "Cycle:17,\tPE_0: STORE, y, t3[1], \tPE_1: STORE, z, t4[1], \n",
      "{'x': 10, 'y': 12.5, 'z': 10.0}\n"
     ]
    }
   ],
   "source": [
    "multi_instance = Simulator(multi_core_count,'multi_core_code/')\n",
    "multi_instance.MEM['x']= 10\n",
    "multi_instance.MEM['y']= 20\n",
    "print(multi_instance.MEM)\n",
    "multi_instance.run()\n",
    "print(multi_instance.MEM)\n",
    "    "
   ]
  },
  {
   "cell_type": "code",
   "execution_count": 22,
   "metadata": {},
   "outputs": [
    {
     "name": "stdout",
     "output_type": "stream",
     "text": [
      "{'x': 10, 'y': 20}\n",
      "Cycle:1,\tPE_0: LOAD, t1, x[1], \n",
      "Cycle:2,\tPE_0: LOAD, t2, y[1], \n",
      "Cycle:3,\tPE_0: DIV, t3, t2, 8[8], \n",
      "Cycle:4,\tPE_0: DIV, t3, t2, 8[7], \n",
      "Cycle:5,\tPE_0: DIV, t3, t2, 8[6], \n",
      "Cycle:6,\tPE_0: DIV, t3, t2, 8[5], \n",
      "Cycle:7,\tPE_0: DIV, t3, t2, 8[4], \n",
      "Cycle:8,\tPE_0: DIV, t3, t2, 8[3], \n",
      "Cycle:9,\tPE_0: DIV, t3, t2, 8[2], \n",
      "Cycle:10,\tPE_0: DIV, t3, t2, 8[1], \n",
      "Cycle:11,\tPE_0: MUL, t4, t1, t1[4], \n",
      "Cycle:12,\tPE_0: MUL, t4, t1, t1[3], \n",
      "Cycle:13,\tPE_0: MUL, t4, t1, t1[2], \n",
      "Cycle:14,\tPE_0: MUL, t4, t1, t1[1], \n",
      "Cycle:15,\tPE_0: SQRT, t4, t4[10], \n",
      "Cycle:16,\tPE_0: SQRT, t4, t4[9], \n",
      "Cycle:17,\tPE_0: SQRT, t4, t4[8], \n",
      "Cycle:18,\tPE_0: SQRT, t4, t4[7], \n",
      "Cycle:19,\tPE_0: SQRT, t4, t4[6], \n",
      "Cycle:20,\tPE_0: SQRT, t4, t4[5], \n",
      "Cycle:21,\tPE_0: SQRT, t4, t4[4], \n",
      "Cycle:22,\tPE_0: SQRT, t4, t4[3], \n",
      "Cycle:23,\tPE_0: SQRT, t4, t4[2], \n",
      "Cycle:24,\tPE_0: SQRT, t4, t4[1], \n",
      "Cycle:25,\tPE_0: ADD, t3, t4, t3[1], \n",
      "Cycle:26,\tPE_0: STORE, y, t3[1], \n",
      "Cycle:27,\tPE_0: STORE, z, t4[1], \n",
      "{'x': 10, 'y': 12.5, 'z': 10.0}\n"
     ]
    }
   ],
   "source": [
    "seq_instance = Simulator(1,'single_core_code/')\n",
    "seq_instance.MEM['x']= 10\n",
    "seq_instance.MEM['y']= 20\n",
    "print(seq_instance.MEM)\n",
    "seq_instance.run()\n",
    "print(seq_instance.MEM)"
   ]
  },
  {
   "cell_type": "code",
   "execution_count": 23,
   "metadata": {},
   "outputs": [
    {
     "data": {
      "text/plain": [
       "True"
      ]
     },
     "execution_count": 23,
     "metadata": {},
     "output_type": "execute_result"
    }
   ],
   "source": [
    "seq_instance.MEM == multi_instance.MEM"
   ]
  }
 ],
 "metadata": {
  "kernelspec": {
   "display_name": "venv",
   "language": "python",
   "name": "python3"
  },
  "language_info": {
   "codemirror_mode": {
    "name": "ipython",
    "version": 3
   },
   "file_extension": ".py",
   "mimetype": "text/x-python",
   "name": "python",
   "nbconvert_exporter": "python",
   "pygments_lexer": "ipython3",
   "version": "3.10.6"
  },
  "orig_nbformat": 4
 },
 "nbformat": 4,
 "nbformat_minor": 2
}
